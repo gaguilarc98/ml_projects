{
 "cells": [
  {
   "cell_type": "markdown",
   "id": "38225a96",
   "metadata": {},
   "source": [
    "## Training a Machine Learning Model with scikit-learn"
   ]
  },
  {
   "cell_type": "markdown",
   "id": "6515288e",
   "metadata": {},
   "source": [
    "In this lesson we will cover:\n",
    "\n",
    "* What is the **K-nearest neighbours** calssification model?\n",
    "* What are the **four steps for model training and prediction** in scikit-learn?\n",
    "* How can I apply this pattern to other machine learning models?"
   ]
  },
  {
   "cell_type": "markdown",
   "id": "152d9471",
   "metadata": {},
   "source": [
    "## Reviewing the iris dataset"
   ]
  },
  {
   "cell_type": "code",
   "execution_count": 1,
   "id": "6afd28ea",
   "metadata": {},
   "outputs": [
    {
     "data": {
      "text/html": [
       "\n",
       "        <iframe\n",
       "            width=\"300\"\n",
       "            height=\"200\"\n",
       "            src=\"https://www.dataschool.io/files/iris.txt\"\n",
       "            frameborder=\"0\"\n",
       "            allowfullscreen\n",
       "            \n",
       "        ></iframe>\n",
       "        "
      ],
      "text/plain": [
       "<IPython.lib.display.IFrame at 0x283a8e18850>"
      ]
     },
     "execution_count": 1,
     "metadata": {},
     "output_type": "execute_result"
    }
   ],
   "source": [
    "from IPython.display import IFrame\n",
    "IFrame('https://www.dataschool.io/files/iris.txt', width=300, height=200)"
   ]
  },
  {
   "cell_type": "markdown",
   "id": "e8c065f6",
   "metadata": {},
   "source": [
    "There are 150 observations with:\n",
    "\n",
    "* 4 features (sepal length, sepal width, petal length and petal width)\n",
    "* 1 response variable (the iris species)\n",
    "\n",
    "This a classification task since the response is categorical"
   ]
  },
  {
   "cell_type": "markdown",
   "id": "47da04fd",
   "metadata": {},
   "source": [
    "## K-nearest neightbours (KNN) classification\n",
    "\n",
    "1. Pick a values for K (nearest neighbours of each point)\n",
    "2. Search for the K observations in the training data that are nearest to the measurements (features) of the unknown iris.\n",
    "3. Use the most popular response value from the K nearest neighbours as the predicted response value for the unknown iris."
   ]
  },
  {
   "cell_type": "code",
   "execution_count": 1,
   "id": "5e3f321d",
   "metadata": {},
   "outputs": [],
   "source": [
    "#Import necessary pacakges to load the data\n",
    "from sklearn.datasets import load_iris\n",
    "\n",
    "# Load the dataset\n",
    "\n",
    "iris = load_iris()\n",
    "\n",
    "X = iris.data\n",
    "\n",
    "y = iris.target"
   ]
  },
  {
   "cell_type": "code",
   "execution_count": 2,
   "id": "b27ed996",
   "metadata": {},
   "outputs": [
    {
     "name": "stdout",
     "output_type": "stream",
     "text": [
      "(150, 4)\n",
      "(150,)\n"
     ]
    }
   ],
   "source": [
    "print(X.shape)\n",
    "print(y.shape)"
   ]
  },
  {
   "cell_type": "markdown",
   "id": "d56ece8d",
   "metadata": {},
   "source": [
    "## Scikit learn 4 step modelling pattern\n",
    "\n",
    "**Step 1**. Import the class you plan to use"
   ]
  },
  {
   "cell_type": "code",
   "execution_count": 3,
   "id": "02c71698",
   "metadata": {},
   "outputs": [],
   "source": [
    "from sklearn.neighbors import KNeighborsClassifier"
   ]
  },
  {
   "cell_type": "markdown",
   "id": "d0e93b20",
   "metadata": {},
   "source": [
    "**Step 2**. \"Instantiate\" the estimator\n",
    "* \"Estimator\" is another term for algorithm or model in scikit-learn\n",
    "* \"Instantiate\" means to make anb instance of"
   ]
  },
  {
   "cell_type": "code",
   "execution_count": 4,
   "id": "fbce682a",
   "metadata": {},
   "outputs": [],
   "source": [
    "knn = KNeighborsClassifier(n_neighbors = 1)"
   ]
  },
  {
   "cell_type": "markdown",
   "id": "98479797",
   "metadata": {},
   "source": [
    "* Name of the object does not matter\n",
    "* Can specify tuning parameters (hyperparameters) during this step, but default values are usually robust enough\n",
    "* All parameters not specified are set to their defaults"
   ]
  },
  {
   "cell_type": "markdown",
   "id": "35d1e78f",
   "metadata": {},
   "source": [
    "**Step 3**. Fit the model instance with the data (model training)\n",
    "* Model learns the relationship between X and y\n",
    "* This operations laways occurs **in place** meaning it affects the instance directly"
   ]
  },
  {
   "cell_type": "code",
   "execution_count": 5,
   "id": "9cc2f4bb",
   "metadata": {},
   "outputs": [
    {
     "data": {
      "text/plain": [
       "KNeighborsClassifier(n_neighbors=1)"
      ]
     },
     "execution_count": 5,
     "metadata": {},
     "output_type": "execute_result"
    }
   ],
   "source": [
    "knn.fit(X,y)"
   ]
  },
  {
   "cell_type": "markdown",
   "id": "9ab66568",
   "metadata": {},
   "source": [
    "**Step 4**. Predict response for a new observation\n",
    "* New observations are called \"out-of-sample\" data\n",
    "* Use the information it learned during the training process"
   ]
  },
  {
   "cell_type": "code",
   "execution_count": 14,
   "id": "3acdf363",
   "metadata": {},
   "outputs": [
    {
     "name": "stderr",
     "output_type": "stream",
     "text": [
      "C:\\ProgramData\\Anaconda3\\lib\\site-packages\\sklearn\\neighbors\\_classification.py:228: FutureWarning: Unlike other reduction functions (e.g. `skew`, `kurtosis`), the default behavior of `mode` typically preserves the axis it acts along. In SciPy 1.11.0, this behavior will change: the default value of `keepdims` will become False, the `axis` over which the statistic is taken will be eliminated, and the value None will no longer be accepted. Set `keepdims` to True or False to avoid this warning.\n",
      "  mode, _ = stats.mode(_y[neigh_ind, k], axis=1)\n"
     ]
    },
    {
     "data": {
      "text/plain": [
       "array([0, 0, 0, 0, 0])"
      ]
     },
     "execution_count": 14,
     "metadata": {},
     "output_type": "execute_result"
    }
   ],
   "source": [
    "knn.predict(X[[1,2,3,4,5]])"
   ]
  },
  {
   "cell_type": "markdown",
   "id": "1311b4d1",
   "metadata": {},
   "source": [
    "## Using a different value for k"
   ]
  },
  {
   "cell_type": "code",
   "execution_count": 10,
   "id": "3c0b1c39",
   "metadata": {},
   "outputs": [],
   "source": [
    "knn = KNeighborsClassifier(n_neighbors = 5)"
   ]
  },
  {
   "cell_type": "code",
   "execution_count": 11,
   "id": "d55e7761",
   "metadata": {},
   "outputs": [
    {
     "data": {
      "text/plain": [
       "KNeighborsClassifier()"
      ]
     },
     "execution_count": 11,
     "metadata": {},
     "output_type": "execute_result"
    }
   ],
   "source": [
    "knn.fit(X,y)"
   ]
  },
  {
   "cell_type": "code",
   "execution_count": 15,
   "id": "4eeca789",
   "metadata": {},
   "outputs": [
    {
     "name": "stderr",
     "output_type": "stream",
     "text": [
      "C:\\ProgramData\\Anaconda3\\lib\\site-packages\\sklearn\\neighbors\\_classification.py:228: FutureWarning: Unlike other reduction functions (e.g. `skew`, `kurtosis`), the default behavior of `mode` typically preserves the axis it acts along. In SciPy 1.11.0, this behavior will change: the default value of `keepdims` will become False, the `axis` over which the statistic is taken will be eliminated, and the value None will no longer be accepted. Set `keepdims` to True or False to avoid this warning.\n",
      "  mode, _ = stats.mode(_y[neigh_ind, k], axis=1)\n"
     ]
    },
    {
     "data": {
      "text/plain": [
       "array([0, 0, 0, 0, 0])"
      ]
     },
     "execution_count": 15,
     "metadata": {},
     "output_type": "execute_result"
    }
   ],
   "source": [
    "knn.predict(X[[1,2,3,4,5]])"
   ]
  },
  {
   "cell_type": "markdown",
   "id": "0c22dabe",
   "metadata": {},
   "source": [
    "## Using a different classification model"
   ]
  },
  {
   "cell_type": "code",
   "execution_count": 18,
   "id": "c0460f64",
   "metadata": {},
   "outputs": [
    {
     "name": "stderr",
     "output_type": "stream",
     "text": [
      "C:\\ProgramData\\Anaconda3\\lib\\site-packages\\sklearn\\linear_model\\_logistic.py:814: ConvergenceWarning: lbfgs failed to converge (status=1):\n",
      "STOP: TOTAL NO. of ITERATIONS REACHED LIMIT.\n",
      "\n",
      "Increase the number of iterations (max_iter) or scale the data as shown in:\n",
      "    https://scikit-learn.org/stable/modules/preprocessing.html\n",
      "Please also refer to the documentation for alternative solver options:\n",
      "    https://scikit-learn.org/stable/modules/linear_model.html#logistic-regression\n",
      "  n_iter_i = _check_optimize_result(\n"
     ]
    },
    {
     "data": {
      "text/plain": [
       "LogisticRegression()"
      ]
     },
     "execution_count": 18,
     "metadata": {},
     "output_type": "execute_result"
    }
   ],
   "source": [
    "# Import the necessary estimator package\n",
    "from sklearn.linear_model import LogisticRegression\n",
    "#Instantiate the estimator\n",
    "logreg = LogisticRegression()\n",
    "#Fit the model\n",
    "logreg.fit(X,y)"
   ]
  },
  {
   "cell_type": "code",
   "execution_count": 19,
   "id": "fd93263f",
   "metadata": {},
   "outputs": [
    {
     "data": {
      "text/plain": [
       "array([0, 0, 0, 0, 0])"
      ]
     },
     "execution_count": 19,
     "metadata": {},
     "output_type": "execute_result"
    }
   ],
   "source": [
    "logreg.predict(X[[1,2,3,4,5]])"
   ]
  },
  {
   "cell_type": "markdown",
   "id": "ac73c02d",
   "metadata": {},
   "source": [
    "This predictions are done with a sample within the training data. However, if we were to predict how well the model performs on out of sample data we usually cannont do it since we do not have the reponse values on the fly."
   ]
  },
  {
   "cell_type": "markdown",
   "id": "3d6a11f5",
   "metadata": {},
   "source": [
    "Thankfully we can try to estimate how well our model will perform on out of sample data using our existent labeled data.\n",
    "\n",
    "These are model evaluation procedures."
   ]
  },
  {
   "cell_type": "code",
   "execution_count": null,
   "id": "f58bc38e",
   "metadata": {},
   "outputs": [],
   "source": []
  }
 ],
 "metadata": {
  "kernelspec": {
   "display_name": "Python 3 (ipykernel)",
   "language": "python",
   "name": "python3"
  },
  "language_info": {
   "codemirror_mode": {
    "name": "ipython",
    "version": 3
   },
   "file_extension": ".py",
   "mimetype": "text/x-python",
   "name": "python",
   "nbconvert_exporter": "python",
   "pygments_lexer": "ipython3",
   "version": "3.9.13"
  }
 },
 "nbformat": 4,
 "nbformat_minor": 5
}
